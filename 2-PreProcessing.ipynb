{
 "cells": [
  {
   "cell_type": "markdown",
   "id": "11474907",
   "metadata": {},
   "source": [
    "In questo Jupyter Notebook verranno aggiunte le colonne \"Anno\",\"Mese\",\"Ora\", \"Giorno\" e \"Giorno_Settimana\".\n",
    "In seguito verrà creato un file di tipo SQlite per poterlo utilizzare in un database di tipo SQlite"
   ]
  },
  {
   "cell_type": "code",
   "execution_count": 10,
   "id": "5758c91b",
   "metadata": {},
   "outputs": [],
   "source": [
    "import pandas as pd\n",
    "from datetime import datetime\n"
   ]
  },
  {
   "cell_type": "code",
   "execution_count": 41,
   "id": "5cbe6400",
   "metadata": {},
   "outputs": [],
   "source": [
    "ecommerce= pd.read_csv('C:/Users/glori/OneDrive/Desktop/ecommerce.csv/sportit.csv', sep=\";\", encoding='latin-1')"
   ]
  },
  {
   "cell_type": "markdown",
   "id": "8b7a93f8",
   "metadata": {},
   "source": [
    "Trasformo la colonna \"data\" in formato date.\n",
    "La maggior parte sono di tipo \"%Y-%m-%d %H:%M:%S.%f\" ma quelle con lunghezza 19 solo di tipo \"%Y-%m-%d %H:%M:%S\""
   ]
  },
  {
   "cell_type": "code",
   "execution_count": 42,
   "id": "d98e61a6",
   "metadata": {},
   "outputs": [],
   "source": [
    "for i in range(len(ecommerce)):\n",
    "    if (len(ecommerce.iloc[i,6])==19):\n",
    "        ecommerce.iloc[i,6]=datetime.strptime(ecommerce.iloc[i,6], \"%Y-%m-%d %H:%M:%S\")\n",
    "    else:\n",
    "        ecommerce.iloc[i,6]=datetime.strptime(ecommerce.iloc[i,6], \"%Y-%m-%d %H:%M:%S.%f\")"
   ]
  },
  {
   "cell_type": "markdown",
   "id": "549d14b2",
   "metadata": {},
   "source": [
    "Creo la colonna \"Anno\",\"Mese\",\"Ora\",\"Giorno\",\"Giorno_Settimana\"\n"
   ]
  },
  {
   "cell_type": "code",
   "execution_count": 43,
   "id": "b340c3f8",
   "metadata": {},
   "outputs": [],
   "source": [
    "for i in range(len(ecommerce)):\n",
    "    ecommerce.loc[i,\"Anno\"]=ecommerce.iloc[i,6].strftime('%Y')\n",
    "    ecommerce.loc[i,\"Mese\"]=ecommerce.iloc[i,6].strftime('%m')\n",
    "    ecommerce.loc[i,\"Giorno\"]=ecommerce.iloc[i,6].strftime('%d')\n",
    "    ecommerce.loc[i,\"Giorno_Settimana\"]=ecommerce.iloc[i,6].strftime('%A')\n",
    "    ecommerce.loc[i,\"Ora\"]=ecommerce.iloc[i,6].strftime('%H:%M:%S')\n",
    "    \n",
    "    "
   ]
  },
  {
   "cell_type": "code",
   "execution_count": 44,
   "id": "3f0465c7",
   "metadata": {
    "scrolled": true
   },
   "outputs": [
    {
     "data": {
      "text/html": [
       "<div>\n",
       "<style scoped>\n",
       "    .dataframe tbody tr th:only-of-type {\n",
       "        vertical-align: middle;\n",
       "    }\n",
       "\n",
       "    .dataframe tbody tr th {\n",
       "        vertical-align: top;\n",
       "    }\n",
       "\n",
       "    .dataframe thead th {\n",
       "        text-align: right;\n",
       "    }\n",
       "</style>\n",
       "<table border=\"1\" class=\"dataframe\">\n",
       "  <thead>\n",
       "    <tr style=\"text-align: right;\">\n",
       "      <th></th>\n",
       "      <th>id</th>\n",
       "      <th>marchio</th>\n",
       "      <th>descrizione</th>\n",
       "      <th>settore</th>\n",
       "      <th>qta</th>\n",
       "      <th>prezzo</th>\n",
       "      <th>data</th>\n",
       "      <th>Anno</th>\n",
       "      <th>Mese</th>\n",
       "      <th>Giorno</th>\n",
       "      <th>Giorno_Settimana</th>\n",
       "      <th>Ora</th>\n",
       "    </tr>\n",
       "  </thead>\n",
       "  <tbody>\n",
       "    <tr>\n",
       "      <th>0</th>\n",
       "      <td>37586</td>\n",
       "      <td>Protest</td>\n",
       "      <td>Pantalone imbottito</td>\n",
       "      <td>Snowboard</td>\n",
       "      <td>1</td>\n",
       "      <td>408.870</td>\n",
       "      <td>2015-04-24 12:32:12.002000</td>\n",
       "      <td>2015</td>\n",
       "      <td>04</td>\n",
       "      <td>24</td>\n",
       "      <td>Friday</td>\n",
       "      <td>12:32:12</td>\n",
       "    </tr>\n",
       "    <tr>\n",
       "      <th>1</th>\n",
       "      <td>43076</td>\n",
       "      <td>Nike</td>\n",
       "      <td>Neutre</td>\n",
       "      <td>Running</td>\n",
       "      <td>1</td>\n",
       "      <td>582.330</td>\n",
       "      <td>2015-06-22 23:43:55.520000</td>\n",
       "      <td>2015</td>\n",
       "      <td>06</td>\n",
       "      <td>22</td>\n",
       "      <td>Monday</td>\n",
       "      <td>23:43:55</td>\n",
       "    </tr>\n",
       "    <tr>\n",
       "      <th>2</th>\n",
       "      <td>36396</td>\n",
       "      <td>Nike</td>\n",
       "      <td>Pallone</td>\n",
       "      <td>Calcio</td>\n",
       "      <td>1</td>\n",
       "      <td>103.250</td>\n",
       "      <td>2015-04-11 02:10:58.754000</td>\n",
       "      <td>2015</td>\n",
       "      <td>04</td>\n",
       "      <td>11</td>\n",
       "      <td>Saturday</td>\n",
       "      <td>02:10:58</td>\n",
       "    </tr>\n",
       "    <tr>\n",
       "      <th>3</th>\n",
       "      <td>39259</td>\n",
       "      <td>Skechers</td>\n",
       "      <td>Scarpa</td>\n",
       "      <td>Fitness</td>\n",
       "      <td>1</td>\n",
       "      <td>329.987</td>\n",
       "      <td>2015-05-14 20:30:03.789000</td>\n",
       "      <td>2015</td>\n",
       "      <td>05</td>\n",
       "      <td>14</td>\n",
       "      <td>Thursday</td>\n",
       "      <td>20:30:03</td>\n",
       "    </tr>\n",
       "    <tr>\n",
       "      <th>4</th>\n",
       "      <td>41154</td>\n",
       "      <td>Adidas</td>\n",
       "      <td>Pantaloncino ufficiale</td>\n",
       "      <td>Calcio</td>\n",
       "      <td>1</td>\n",
       "      <td>45.430</td>\n",
       "      <td>2015-06-05 12:39:46.346000</td>\n",
       "      <td>2015</td>\n",
       "      <td>06</td>\n",
       "      <td>05</td>\n",
       "      <td>Friday</td>\n",
       "      <td>12:39:46</td>\n",
       "    </tr>\n",
       "  </tbody>\n",
       "</table>\n",
       "</div>"
      ],
      "text/plain": [
       "      id   marchio             descrizione    settore  qta   prezzo  \\\n",
       "0  37586   Protest     Pantalone imbottito  Snowboard    1  408.870   \n",
       "1  43076      Nike                  Neutre    Running    1  582.330   \n",
       "2  36396      Nike                 Pallone     Calcio    1  103.250   \n",
       "3  39259  Skechers                  Scarpa    Fitness    1  329.987   \n",
       "4  41154    Adidas  Pantaloncino ufficiale     Calcio    1   45.430   \n",
       "\n",
       "                         data  Anno Mese Giorno Giorno_Settimana       Ora  \n",
       "0  2015-04-24 12:32:12.002000  2015   04     24           Friday  12:32:12  \n",
       "1  2015-06-22 23:43:55.520000  2015   06     22           Monday  23:43:55  \n",
       "2  2015-04-11 02:10:58.754000  2015   04     11         Saturday  02:10:58  \n",
       "3  2015-05-14 20:30:03.789000  2015   05     14         Thursday  20:30:03  \n",
       "4  2015-06-05 12:39:46.346000  2015   06     05           Friday  12:39:46  "
      ]
     },
     "execution_count": 44,
     "metadata": {},
     "output_type": "execute_result"
    }
   ],
   "source": [
    "ecommerce.head()"
   ]
  },
  {
   "cell_type": "markdown",
   "id": "74f685de",
   "metadata": {},
   "source": [
    "Cancello i dati nel file csv e inserisco quelli nuovi"
   ]
  },
  {
   "cell_type": "code",
   "execution_count": 48,
   "id": "a3542e57",
   "metadata": {},
   "outputs": [],
   "source": [
    "import csv\n",
    "\n",
    "\n",
    "# Definisci il percorso del file CSV esistente\n",
    "percorso_file = 'C:/Users/glori/OneDrive/Desktop/ecommerce.csv/sportit.csv'\n",
    "\n",
    "# Apri il file CSV in modalità scrittura e cancella i dati\n",
    "with open(percorso_file, 'w', newline='') as file_csv:\n",
    "    writer = csv.writer(file_csv)  # Creazione del writer CSV\n",
    "    writer.writerow([])  #\n",
    "\n",
    "ecommerce.to_csv('C:/Users/glori/OneDrive/Desktop/ecommerce.csv/sportit.csv')\n"
   ]
  },
  {
   "cell_type": "markdown",
   "id": "f725bf80",
   "metadata": {},
   "source": [
    "Trasformo il file csv in formato sqlite per poterlo utilizzare in un database SQlite"
   ]
  },
  {
   "cell_type": "code",
   "execution_count": 49,
   "id": "f59d12ec",
   "metadata": {},
   "outputs": [],
   "source": [
    "import sqlite3\n",
    "\n",
    "# Definisci il percorso del file CSV e del database SQLite\n",
    "percorso_file_csv = 'C:/Users/glori/OneDrive/Desktop/ecommerce.csv/sportit.csv'\n",
    "percorso_database_sqlite = 'C:/Users/glori/OneDrive/Desktop/ecommerce.csv/ecommerce.sqlite'\n",
    "\n",
    "# Carica i dati dal file CSV in un DataFrame pandas\n",
    "dataframe = pd.read_csv(percorso_file_csv)\n",
    "\n",
    "# Crea una connessione al database SQLite\n",
    "connessione = sqlite3.connect(percorso_database_sqlite)\n",
    "\n",
    "# Salva il DataFrame nel database SQLite\n",
    "dataframe.to_sql('ecommerce', connessione, if_exists='replace', index=False)\n",
    "\n",
    "# Chiudi la connessione al database\n",
    "connessione.close()"
   ]
  }
 ],
 "metadata": {
  "kernelspec": {
   "display_name": "Python 3 (ipykernel)",
   "language": "python",
   "name": "python3"
  },
  "language_info": {
   "codemirror_mode": {
    "name": "ipython",
    "version": 3
   },
   "file_extension": ".py",
   "mimetype": "text/x-python",
   "name": "python",
   "nbconvert_exporter": "python",
   "pygments_lexer": "ipython3",
   "version": "3.8.10"
  }
 },
 "nbformat": 4,
 "nbformat_minor": 5
}
